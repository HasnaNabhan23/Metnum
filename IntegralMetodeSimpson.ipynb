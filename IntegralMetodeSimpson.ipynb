{
  "nbformat": 4,
  "nbformat_minor": 0,
  "metadata": {
    "colab": {
      "provenance": [],
      "authorship_tag": "ABX9TyPAs4iBb0irAsuoY8PUkScj",
      "include_colab_link": true
    },
    "kernelspec": {
      "name": "python3",
      "display_name": "Python 3"
    },
    "language_info": {
      "name": "python"
    }
  },
  "cells": [
    {
      "cell_type": "markdown",
      "metadata": {
        "id": "view-in-github",
        "colab_type": "text"
      },
      "source": [
        "<a href=\"https://colab.research.google.com/github/HasnaNabhan23/Metnum/blob/main/IntegralMetodeSimpson.ipynb\" target=\"_parent\"><img src=\"https://colab.research.google.com/assets/colab-badge.svg\" alt=\"Open In Colab\"/></a>"
      ]
    },
    {
      "cell_type": "code",
      "execution_count": null,
      "metadata": {
        "colab": {
          "base_uri": "https://localhost:8080/"
        },
        "id": "qMgqf2HhnMEE",
        "outputId": "7a329d58-83a5-483a-d9e4-b42a40fe8f97"
      },
      "outputs": [
        {
          "output_type": "stream",
          "name": "stdout",
          "text": [
            "Perkiraan: 2\n",
            "Perkiraan Error: 2\n",
            "Jumlah Step: 3\n",
            "Iterasi-1, x1 = 6.000000, f(x1) = 16.000000\n",
            "Iterasi-2, x1 = 4.400000, f(x1) = 2.560000\n",
            "Iterasi-3, x1 = 4.023529, f(x1) = 0.141730\n",
            "\n",
            "Konvergensi tercapai. Akar yang dibutuhkan: 4.02352941\n"
          ]
        }
      ],
      "source": [
        "def newton_raphson(f, g, x0, e, max_iterations):\n",
        "    step = 1\n",
        "    while step <= max_iterations:\n",
        "        if g(x0) == 0.0:\n",
        "            raise ValueError(\"Turunan f'(x) menjadi nol. Metode Newton-Raphson tidak dapat dilanjutkan.\")\n",
        "\n",
        "        x1 = x0 - f(x0)/g(x0)\n",
        "        f_x1 = f(x1)\n",
        "        print(f'Iterasi-{step}, x1 = {x1:.6f}, f(x1) = {f_x1:.6f}')\n",
        "\n",
        "        if abs(f_x1) < e:\n",
        "            print(f'\\nKonvergensi tercapai. Akar yang dibutuhkan: {x1:.8f}')\n",
        "            return\n",
        "\n",
        "        x0 = x1\n",
        "        step += 1\n",
        "\n",
        "    print(f\"\\nMetode Newton-Raphson tidak konvergen dalam {max_iterations} iterasi.\")\n",
        "\n",
        "def main():\n",
        "    try:\n",
        "        x0 = float(input('Perkiraan: '))\n",
        "        e = float(input('Perkiraan Error: '))\n",
        "        N = int(input('Jumlah Step: '))\n",
        "\n",
        "        newton_raphson(lambda x: x**2 - 2*x - 8, lambda x: 2*x - 2, x0, e, N)\n",
        "\n",
        "    except ValueError:\n",
        "        print('Input yang dimasukkan tidak valid. Harap masukkan nilai numerik yang valid.')\n",
        "    except KeyboardInterrupt:\n",
        "        print('Proses dihentikan oleh pengguna.')\n",
        "\n",
        "if __name__ == \"__main__\":\n",
        "    main()"
      ]
    },
    {
      "cell_type": "code",
      "source": [
        "def f(x):\n",
        "    # Definisikan fungsi yang ingin diintegrasikan di sini\n",
        "    return x**2  # Contoh: fungsi x^2\n",
        "\n",
        "def simpson_one_third(a, b, n):\n",
        "    \"\"\"\n",
        "    Menghitung integral menggunakan metode Simpson 1/3\n",
        "\n",
        "    Parameters:\n",
        "    a (float): Batas bawah integral\n",
        "    b (float): Batas atas integral\n",
        "    n (int): Jumlah subinterval (harus genap)\n",
        "\n",
        "    Returns:\n",
        "    hasil_integral (float): Nilai integral\n",
        "    \"\"\"\n",
        "\n",
        "    if n % 2 != 0:\n",
        "        raise ValueError(\"Jumlah subinterval harus genap\")\n",
        "\n",
        "    h = (b - a) / n\n",
        "    x = [a + i * h for i in range(n+1)]\n",
        "    y = [f(x[i]) for i in range(n+1)]\n",
        "\n",
        "    integral = y[0] + y[n]  # Penjumlahan ujung pertama dan terakhir\n",
        "\n",
        "    # Penjumlahan untuk bagian genap\n",
        "    for i in range(1, n, 2):\n",
        "        integral += 4 * y[i]\n",
        "\n",
        "    # Penjumlahan untuk bagian ganjil\n",
        "    for i in range(2, n-1, 2):\n",
        "        integral += 2 * y[i]\n",
        "\n",
        "    hasil_integral = integral * h / 3\n",
        "\n",
        "    return hasil_integral\n",
        "\n",
        "# Memasukkan nilai dari pengguna\n",
        "batas_bawah = float(input(\"Masukkan nilai batas bawah integral: \"))\n",
        "batas_atas = float(input(\"Masukkan nilai batas atas integral: \"))\n",
        "jumlah_subinterval = int(input(\"Masukkan jumlah subinterval (harus genap): \"))\n",
        "\n",
        "# Menghitung integral menggunakan metode Simpson 1/3\n",
        "integral_hasil = simpson_one_third(batas_bawah, batas_atas, jumlah_subinterval)\n",
        "print(f\"Hasil integral menggunakan metode Simpson 1/3: {integral_hasil}\")\n"
      ],
      "metadata": {
        "colab": {
          "base_uri": "https://localhost:8080/"
        },
        "id": "z13yqpfi3N5e",
        "outputId": "ca5fb4f7-1e06-4632-eabd-ac248e584e24"
      },
      "execution_count": 2,
      "outputs": [
        {
          "output_type": "stream",
          "name": "stdout",
          "text": [
            "Masukkan nilai batas bawah integral: 3\n",
            "Masukkan nilai batas atas integral: 4\n",
            "Masukkan jumlah subinterval (harus genap): 2\n",
            "Hasil integral menggunakan metode Simpson 1/3: 12.333333333333334\n"
          ]
        }
      ]
    }
  ]
}