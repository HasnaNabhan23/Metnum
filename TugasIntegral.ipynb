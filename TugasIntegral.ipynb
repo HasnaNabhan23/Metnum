{
  "nbformat": 4,
  "nbformat_minor": 0,
  "metadata": {
    "colab": {
      "provenance": [],
      "authorship_tag": "ABX9TyOPJ98biPF0y1XtYyjTCwBo",
      "include_colab_link": true
    },
    "kernelspec": {
      "name": "python3",
      "display_name": "Python 3"
    },
    "language_info": {
      "name": "python"
    }
  },
  "cells": [
    {
      "cell_type": "markdown",
      "metadata": {
        "id": "view-in-github",
        "colab_type": "text"
      },
      "source": [
        "<a href=\"https://colab.research.google.com/github/HasnaNabhan23/Metnum/blob/main/TugasIntegral.ipynb\" target=\"_parent\"><img src=\"https://colab.research.google.com/assets/colab-badge.svg\" alt=\"Open In Colab\"/></a>"
      ]
    },
    {
      "cell_type": "code",
      "source": [
        "def f(x):\n",
        "    # Definisikan fungsi yang ingin diintegrasikan di sini\n",
        "    return x**2  # Contoh: fungsi x^2\n",
        "\n",
        "def simpson_one_third(a, b, n):\n",
        "    \"\"\"\n",
        "    Menghitung integral menggunakan metode Simpson 1/3\n",
        "\n",
        "    Parameters:\n",
        "    a (float): Batas bawah integral\n",
        "    b (float): Batas atas integral\n",
        "    n (int): Jumlah subinterval (harus genap)\n",
        "\n",
        "    Returns:\n",
        "    hasil_integral (float): Nilai integral\n",
        "    \"\"\"\n",
        "\n",
        "    if n % 2 != 0:\n",
        "        raise ValueError(\"Jumlah subinterval harus genap\")\n",
        "\n",
        "    h = (b - a) / n\n",
        "    x = [a + i * h for i in range(n+1)]\n",
        "    y = [f(x[i]) for i in range(n+1)]\n",
        "\n",
        "    integral = y[0] + y[n]  # Penjumlahan ujung pertama dan terakhir\n",
        "\n",
        "    # Penjumlahan untuk bagian genap\n",
        "    for i in range(1, n, 2):\n",
        "        integral += 4 * y[i]\n",
        "\n",
        "    # Penjumlahan untuk bagian ganjil\n",
        "    for i in range(2, n-1, 2):\n",
        "        integral += 2 * y[i]\n",
        "\n",
        "    hasil_integral = integral * h / 3\n",
        "\n",
        "    return hasil_integral\n",
        "\n",
        "# Memasukkan nilai dari pengguna\n",
        "batas_bawah = float(input(\"Masukkan nilai batas bawah integral: \"))\n",
        "batas_atas = float(input(\"Masukkan nilai batas atas integral: \"))\n",
        "jumlah_subinterval = int(input(\"Masukkan jumlah subinterval (harus genap): \"))\n",
        "\n",
        "# Menghitung integral menggunakan metode Simpson 1/3\n",
        "integral_hasil = simpson_one_third(batas_bawah, batas_atas, jumlah_subinterval)\n",
        "print(f\"Hasil integral menggunakan metode Simpson 1/3: {integral_hasil}\")\n"
      ],
      "metadata": {
        "colab": {
          "base_uri": "https://localhost:8080/"
        },
        "id": "z13yqpfi3N5e",
        "outputId": "ca5fb4f7-1e06-4632-eabd-ac248e584e24"
      },
      "execution_count": 2,
      "outputs": [
        {
          "output_type": "stream",
          "name": "stdout",
          "text": [
            "Masukkan nilai batas bawah integral: 3\n",
            "Masukkan nilai batas atas integral: 4\n",
            "Masukkan jumlah subinterval (harus genap): 2\n",
            "Hasil integral menggunakan metode Simpson 1/3: 12.333333333333334\n"
          ]
        }
      ]
    },
    {
      "cell_type": "code",
      "source": [
        "def f(x):\n",
        "    # Definisikan fungsi yang ingin diintegrasikan di sini\n",
        "    return x**2  # Contoh: fungsi x^2\n",
        "\n",
        "def trapezoidal_rule(a, b, n):\n",
        "    \"\"\"\n",
        "    Menghitung integral menggunakan metode trapesium\n",
        "\n",
        "    Parameters:\n",
        "    a (float): Batas bawah integral\n",
        "    b (float): Batas atas integral\n",
        "    n (int): Jumlah subinterval\n",
        "\n",
        "    Returns:\n",
        "    hasil_integral (float): Nilai integral\n",
        "    \"\"\"\n",
        "\n",
        "    h = (b - a) / n\n",
        "    x = [a + i * h for i in range(n+1)]\n",
        "    y = [f(x[i]) for i in range(n+1)]\n",
        "\n",
        "    integral = y[0] + y[n]  # Penjumlahan ujung pertama dan terakhir\n",
        "\n",
        "    # Penjumlahan untuk bagian dalam\n",
        "    for i in range(1, n):\n",
        "        integral += 2 * y[i]\n",
        "\n",
        "    hasil_integral = integral * h / 2\n",
        "\n",
        "    return hasil_integral\n",
        "\n",
        "# Memasukkan nilai dari pengguna\n",
        "batas_bawah = float(input(\"Masukkan nilai batas bawah integral: \"))\n",
        "batas_atas = float(input(\"Masukkan nilai batas atas integral: \"))\n",
        "jumlah_subinterval = int(input(\"Masukkan jumlah subinterval: \"))\n",
        "\n",
        "# Menghitung integral menggunakan metode trapesium\n",
        "integral_hasil = trapezoidal_rule(batas_bawah, batas_atas, jumlah_subinterval)\n",
        "print(f\"Hasil integral menggunakan metode trapesium: {integral_hasil}\")\n"
      ],
      "metadata": {
        "colab": {
          "base_uri": "https://localhost:8080/"
        },
        "id": "lf6dPZmb4e07",
        "outputId": "5375c890-3c28-4ad8-e74b-eb6ce713cc80"
      },
      "execution_count": 3,
      "outputs": [
        {
          "output_type": "stream",
          "name": "stdout",
          "text": [
            "Masukkan nilai batas bawah integral: 1\n",
            "Masukkan nilai batas atas integral: 2\n",
            "Masukkan jumlah subinterval: 3\n",
            "Hasil integral menggunakan metode trapesium: 2.3518518518518516\n"
          ]
        }
      ]
    },
    {
      "cell_type": "code",
      "source": [
        "def f(x):\n",
        "    # Definisikan fungsi yang ingin diintegrasikan di sini\n",
        "    return x**2  # Contoh: fungsi x^2\n",
        "\n",
        "def midpoint_rule(a, b, n):\n",
        "    \"\"\"\n",
        "    Menghitung integral menggunakan metode titik tengah (midpoint)\n",
        "\n",
        "    Parameters:\n",
        "    a (float): Batas bawah integral\n",
        "    b (float): Batas atas integral\n",
        "    n (int): Jumlah subinterval\n",
        "\n",
        "    Returns:\n",
        "    hasil_integral (float): Nilai integral\n",
        "    \"\"\"\n",
        "\n",
        "    h = (b - a) / n\n",
        "    integral = 0.0\n",
        "\n",
        "    for i in range(n):\n",
        "        midpoint = (a + h * (i + 0.5))\n",
        "        integral += f(midpoint)\n",
        "\n",
        "    hasil_integral = h * integral\n",
        "\n",
        "    return hasil_integral\n",
        "\n",
        "# Memasukkan nilai dari pengguna\n",
        "batas_bawah = float(input(\"Masukkan nilai batas bawah integral: \"))\n",
        "batas_atas = float(input(\"Masukkan nilai batas atas integral: \"))\n",
        "jumlah_subinterval = int(input(\"Masukkan jumlah subinterval: \"))\n",
        "\n",
        "# Menghitung integral menggunakan metode titik tengah (midpoint)\n",
        "integral_hasil = midpoint_rule(batas_bawah, batas_atas, jumlah_subinterval)\n",
        "print(f\"Hasil integral menggunakan metode titik tengah (midpoint): {integral_hasil}\")\n"
      ],
      "metadata": {
        "colab": {
          "base_uri": "https://localhost:8080/"
        },
        "id": "iaKgKMWr4xne",
        "outputId": "10894ef7-7bfa-43e9-afa9-fa309dd0fc56"
      },
      "execution_count": 4,
      "outputs": [
        {
          "output_type": "stream",
          "name": "stdout",
          "text": [
            "Masukkan nilai batas bawah integral: 2\n",
            "Masukkan nilai batas atas integral: 3\n",
            "Masukkan jumlah subinterval: 2\n",
            "Hasil integral menggunakan metode titik tengah (midpoint): 6.3125\n"
          ]
        }
      ]
    }
  ]
}